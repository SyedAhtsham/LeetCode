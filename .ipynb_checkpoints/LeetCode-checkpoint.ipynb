{
 "cells": [
  {
   "attachments": {},
   "cell_type": "markdown",
   "id": "b8428ed5",
   "metadata": {},
   "source": []
  },
  {
   "cell_type": "code",
   "execution_count": 2,
   "id": "d469f085",
   "metadata": {},
   "outputs": [
    {
     "ename": "IndentationError",
     "evalue": "expected an indented block after 'if' statement on line 18 (1137810283.py, line 21)",
     "output_type": "error",
     "traceback": [
      "\u001b[0;36m  Cell \u001b[0;32mIn[2], line 21\u001b[0;36m\u001b[0m\n\u001b[0;31m    for num in nums:\u001b[0m\n\u001b[0m    ^\u001b[0m\n\u001b[0;31mIndentationError\u001b[0m\u001b[0;31m:\u001b[0m expected an indented block after 'if' statement on line 18\n"
     ]
    }
   ],
   "source": [
    "nums = [7,4,3,9,1,8,5,2,6]\n",
    "k=3\n",
    "\n",
    "arr = []\n",
    "\n",
    "i = 0\n",
    "index = 0\n",
    "size = len(nums)\n",
    "upper = size - k\n",
    "sum = 0\n",
    "m = 0\n",
    "\n",
    "divideBy = k*2+1\n",
    "\n",
    "print(divideBy)\n",
    "\n",
    "if size == 1 and k==0:\n",
    "    arr.append(nums[0])\n",
    "    return arr\n",
    "if size == 1 and k>0:\n",
    "    arr.append(-1)\n",
    "    return arr\n",
    "    \n",
    "\n",
    "for num in nums:\n",
    "    sum += num\n",
    "        \n",
    "    if i<k:\n",
    "        arr.append(-1)\n",
    "    if i >= upper: \n",
    "        arr.append(int(sum/divideBy))\n",
    "        sum = sum-nums[m]\n",
    "        m += 1\n",
    "\n",
    "    i += 1\n",
    "    \n",
    "    \n",
    "n = upper\n",
    "\n",
    "\n",
    "while n!= size:\n",
    "    arr.append(-1)\n",
    "    n+=1\n",
    "    \n",
    "print(k*2+1)\n",
    "print(sumArr)\n",
    "print(arr)\n",
    "    \n",
    "    "
   ]
  },
  {
   "cell_type": "code",
   "execution_count": null,
   "id": "c91cbec4",
   "metadata": {},
   "outputs": [],
   "source": []
  },
  {
   "cell_type": "code",
   "execution_count": null,
   "id": "78deea6d",
   "metadata": {},
   "outputs": [],
   "source": []
  }
 ],
 "metadata": {
  "kernelspec": {
   "display_name": "Python 3 (ipykernel)",
   "language": "python",
   "name": "python3"
  },
  "language_info": {
   "codemirror_mode": {
    "name": "ipython",
    "version": 3
   },
   "file_extension": ".py",
   "mimetype": "text/x-python",
   "name": "python",
   "nbconvert_exporter": "python",
   "pygments_lexer": "ipython3",
   "version": "3.11.4"
  }
 },
 "nbformat": 4,
 "nbformat_minor": 5
}
